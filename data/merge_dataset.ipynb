{
 "cells": [
  {
   "cell_type": "code",
   "execution_count": 1,
   "id": "64e605e4",
   "metadata": {},
   "outputs": [],
   "source": [
    "import re"
   ]
  },
  {
   "cell_type": "code",
   "execution_count": 2,
   "id": "e5150df2",
   "metadata": {},
   "outputs": [
    {
     "name": "stdout",
     "output_type": "stream",
     "text": [
      "                product  price  quantity        date region\n",
      "0           pink morsel  $3.00       546  2018-02-06  north\n",
      "1           pink morsel  $3.00       549  2018-02-06  south\n",
      "2           pink morsel  $3.00       577  2018-02-06   east\n",
      "3           pink morsel  $3.00       519  2018-02-06   west\n",
      "4           gold morsel  $9.99       580  2018-02-06  north\n",
      "...                 ...    ...       ...         ...    ...\n",
      "41155  vermilion morsel  $4.99       475  2022-02-14   west\n",
      "41156      lapis morsel  $1.99       425  2022-02-14  north\n",
      "41157      lapis morsel  $1.99       454  2022-02-14  south\n",
      "41158      lapis morsel  $1.99       483  2022-02-14   east\n",
      "41159      lapis morsel  $1.99       427  2022-02-14   west\n",
      "\n",
      "[41160 rows x 5 columns]\n"
     ]
    }
   ],
   "source": [
    "# importing pandas \n",
    "import pandas as pd \n",
    "\n",
    "# merging two csv files \n",
    "df = pd.concat(map(pd.read_csv, [\"E:\\AC_projects_programs\\quantium-starter-repo\\data\\daily_sales_data_0.csv\", \"E:\\AC_projects_programs\\quantium-starter-repo\\data\\daily_sales_data_1.csv\", \"E:\\AC_projects_programs\\quantium-starter-repo\\data\\daily_sales_data_2.csv\"]), ignore_index=True) \n",
    "print(df) \n"
   ]
  },
  {
   "cell_type": "code",
   "execution_count": null,
   "id": "f7df5e9b",
   "metadata": {},
   "outputs": [],
   "source": [
    "#df.to_csv(\"E:\\AC_projects_programs\\quantium-starter-repo\\data\\merged_daily_sales_data.csv\")"
   ]
  },
  {
   "cell_type": "code",
   "execution_count": 3,
   "id": "cdbdd969",
   "metadata": {},
   "outputs": [
    {
     "name": "stdout",
     "output_type": "stream",
     "text": [
      "<class 'pandas.core.frame.DataFrame'>\n",
      "RangeIndex: 41160 entries, 0 to 41159\n",
      "Data columns (total 5 columns):\n",
      " #   Column    Non-Null Count  Dtype \n",
      "---  ------    --------------  ----- \n",
      " 0   product   41160 non-null  object\n",
      " 1   price     41160 non-null  object\n",
      " 2   quantity  41160 non-null  int64 \n",
      " 3   date      41160 non-null  object\n",
      " 4   region    41160 non-null  object\n",
      "dtypes: int64(1), object(4)\n",
      "memory usage: 1.6+ MB\n"
     ]
    }
   ],
   "source": [
    "df.info()"
   ]
  },
  {
   "cell_type": "code",
   "execution_count": 4,
   "id": "4d29b03c",
   "metadata": {},
   "outputs": [
    {
     "data": {
      "text/html": [
       "<div>\n",
       "<style scoped>\n",
       "    .dataframe tbody tr th:only-of-type {\n",
       "        vertical-align: middle;\n",
       "    }\n",
       "\n",
       "    .dataframe tbody tr th {\n",
       "        vertical-align: top;\n",
       "    }\n",
       "\n",
       "    .dataframe thead th {\n",
       "        text-align: right;\n",
       "    }\n",
       "</style>\n",
       "<table border=\"1\" class=\"dataframe\">\n",
       "  <thead>\n",
       "    <tr style=\"text-align: right;\">\n",
       "      <th></th>\n",
       "      <th>product</th>\n",
       "      <th>price</th>\n",
       "      <th>quantity</th>\n",
       "      <th>date</th>\n",
       "      <th>region</th>\n",
       "    </tr>\n",
       "  </thead>\n",
       "  <tbody>\n",
       "    <tr>\n",
       "      <th>0</th>\n",
       "      <td>pink morsel</td>\n",
       "      <td>$3.00</td>\n",
       "      <td>546</td>\n",
       "      <td>2018-02-06</td>\n",
       "      <td>north</td>\n",
       "    </tr>\n",
       "    <tr>\n",
       "      <th>1</th>\n",
       "      <td>pink morsel</td>\n",
       "      <td>$3.00</td>\n",
       "      <td>549</td>\n",
       "      <td>2018-02-06</td>\n",
       "      <td>south</td>\n",
       "    </tr>\n",
       "    <tr>\n",
       "      <th>2</th>\n",
       "      <td>pink morsel</td>\n",
       "      <td>$3.00</td>\n",
       "      <td>577</td>\n",
       "      <td>2018-02-06</td>\n",
       "      <td>east</td>\n",
       "    </tr>\n",
       "    <tr>\n",
       "      <th>3</th>\n",
       "      <td>pink morsel</td>\n",
       "      <td>$3.00</td>\n",
       "      <td>519</td>\n",
       "      <td>2018-02-06</td>\n",
       "      <td>west</td>\n",
       "    </tr>\n",
       "    <tr>\n",
       "      <th>4</th>\n",
       "      <td>gold morsel</td>\n",
       "      <td>$9.99</td>\n",
       "      <td>580</td>\n",
       "      <td>2018-02-06</td>\n",
       "      <td>north</td>\n",
       "    </tr>\n",
       "  </tbody>\n",
       "</table>\n",
       "</div>"
      ],
      "text/plain": [
       "       product  price  quantity        date region\n",
       "0  pink morsel  $3.00       546  2018-02-06  north\n",
       "1  pink morsel  $3.00       549  2018-02-06  south\n",
       "2  pink morsel  $3.00       577  2018-02-06   east\n",
       "3  pink morsel  $3.00       519  2018-02-06   west\n",
       "4  gold morsel  $9.99       580  2018-02-06  north"
      ]
     },
     "execution_count": 4,
     "metadata": {},
     "output_type": "execute_result"
    }
   ],
   "source": [
    "df.head()"
   ]
  },
  {
   "cell_type": "code",
   "execution_count": 5,
   "id": "8ee7a05c",
   "metadata": {},
   "outputs": [],
   "source": [
    "new_df=df[df[\"product\"]==\"pink morsel\"]"
   ]
  },
  {
   "cell_type": "code",
   "execution_count": 6,
   "id": "487e91f8",
   "metadata": {},
   "outputs": [
    {
     "data": {
      "text/html": [
       "<div>\n",
       "<style scoped>\n",
       "    .dataframe tbody tr th:only-of-type {\n",
       "        vertical-align: middle;\n",
       "    }\n",
       "\n",
       "    .dataframe tbody tr th {\n",
       "        vertical-align: top;\n",
       "    }\n",
       "\n",
       "    .dataframe thead th {\n",
       "        text-align: right;\n",
       "    }\n",
       "</style>\n",
       "<table border=\"1\" class=\"dataframe\">\n",
       "  <thead>\n",
       "    <tr style=\"text-align: right;\">\n",
       "      <th></th>\n",
       "      <th>product</th>\n",
       "      <th>price</th>\n",
       "      <th>quantity</th>\n",
       "      <th>date</th>\n",
       "      <th>region</th>\n",
       "    </tr>\n",
       "  </thead>\n",
       "  <tbody>\n",
       "    <tr>\n",
       "      <th>0</th>\n",
       "      <td>pink morsel</td>\n",
       "      <td>$3.00</td>\n",
       "      <td>546</td>\n",
       "      <td>2018-02-06</td>\n",
       "      <td>north</td>\n",
       "    </tr>\n",
       "    <tr>\n",
       "      <th>1</th>\n",
       "      <td>pink morsel</td>\n",
       "      <td>$3.00</td>\n",
       "      <td>549</td>\n",
       "      <td>2018-02-06</td>\n",
       "      <td>south</td>\n",
       "    </tr>\n",
       "    <tr>\n",
       "      <th>2</th>\n",
       "      <td>pink morsel</td>\n",
       "      <td>$3.00</td>\n",
       "      <td>577</td>\n",
       "      <td>2018-02-06</td>\n",
       "      <td>east</td>\n",
       "    </tr>\n",
       "    <tr>\n",
       "      <th>3</th>\n",
       "      <td>pink morsel</td>\n",
       "      <td>$3.00</td>\n",
       "      <td>519</td>\n",
       "      <td>2018-02-06</td>\n",
       "      <td>west</td>\n",
       "    </tr>\n",
       "    <tr>\n",
       "      <th>28</th>\n",
       "      <td>pink morsel</td>\n",
       "      <td>$3.00</td>\n",
       "      <td>529</td>\n",
       "      <td>2018-02-07</td>\n",
       "      <td>north</td>\n",
       "    </tr>\n",
       "    <tr>\n",
       "      <th>...</th>\n",
       "      <td>...</td>\n",
       "      <td>...</td>\n",
       "      <td>...</td>\n",
       "      <td>...</td>\n",
       "      <td>...</td>\n",
       "    </tr>\n",
       "    <tr>\n",
       "      <th>41107</th>\n",
       "      <td>pink morsel</td>\n",
       "      <td>$5.00</td>\n",
       "      <td>478</td>\n",
       "      <td>2022-02-13</td>\n",
       "      <td>west</td>\n",
       "    </tr>\n",
       "    <tr>\n",
       "      <th>41132</th>\n",
       "      <td>pink morsel</td>\n",
       "      <td>$5.00</td>\n",
       "      <td>407</td>\n",
       "      <td>2022-02-14</td>\n",
       "      <td>north</td>\n",
       "    </tr>\n",
       "    <tr>\n",
       "      <th>41133</th>\n",
       "      <td>pink morsel</td>\n",
       "      <td>$5.00</td>\n",
       "      <td>493</td>\n",
       "      <td>2022-02-14</td>\n",
       "      <td>south</td>\n",
       "    </tr>\n",
       "    <tr>\n",
       "      <th>41134</th>\n",
       "      <td>pink morsel</td>\n",
       "      <td>$5.00</td>\n",
       "      <td>500</td>\n",
       "      <td>2022-02-14</td>\n",
       "      <td>east</td>\n",
       "    </tr>\n",
       "    <tr>\n",
       "      <th>41135</th>\n",
       "      <td>pink morsel</td>\n",
       "      <td>$5.00</td>\n",
       "      <td>423</td>\n",
       "      <td>2022-02-14</td>\n",
       "      <td>west</td>\n",
       "    </tr>\n",
       "  </tbody>\n",
       "</table>\n",
       "<p>5880 rows × 5 columns</p>\n",
       "</div>"
      ],
      "text/plain": [
       "           product  price  quantity        date region\n",
       "0      pink morsel  $3.00       546  2018-02-06  north\n",
       "1      pink morsel  $3.00       549  2018-02-06  south\n",
       "2      pink morsel  $3.00       577  2018-02-06   east\n",
       "3      pink morsel  $3.00       519  2018-02-06   west\n",
       "28     pink morsel  $3.00       529  2018-02-07  north\n",
       "...            ...    ...       ...         ...    ...\n",
       "41107  pink morsel  $5.00       478  2022-02-13   west\n",
       "41132  pink morsel  $5.00       407  2022-02-14  north\n",
       "41133  pink morsel  $5.00       493  2022-02-14  south\n",
       "41134  pink morsel  $5.00       500  2022-02-14   east\n",
       "41135  pink morsel  $5.00       423  2022-02-14   west\n",
       "\n",
       "[5880 rows x 5 columns]"
      ]
     },
     "execution_count": 6,
     "metadata": {},
     "output_type": "execute_result"
    }
   ],
   "source": [
    "new_df"
   ]
  },
  {
   "cell_type": "code",
   "execution_count": null,
   "id": "d726e3bf",
   "metadata": {},
   "outputs": [],
   "source": [
    "#new_df[\"price\"].astype(float)"
   ]
  },
  {
   "cell_type": "code",
   "execution_count": 7,
   "id": "eca21bb3",
   "metadata": {},
   "outputs": [
    {
     "name": "stderr",
     "output_type": "stream",
     "text": [
      "C:\\Users\\Varad\\AppData\\Local\\Temp\\ipykernel_17744\\3815016107.py:1: SettingWithCopyWarning: \n",
      "A value is trying to be set on a copy of a slice from a DataFrame.\n",
      "Try using .loc[row_indexer,col_indexer] = value instead\n",
      "\n",
      "See the caveats in the documentation: https://pandas.pydata.org/pandas-docs/stable/user_guide/indexing.html#returning-a-view-versus-a-copy\n",
      "  new_df[\"price\"]=new_df[\"price\"].str.replace(r'\\$', ' ', regex=True)\n"
     ]
    }
   ],
   "source": [
    "new_df[\"price\"]=new_df[\"price\"].str.replace(r'\\$', ' ', regex=True)"
   ]
  },
  {
   "cell_type": "code",
   "execution_count": 8,
   "id": "d161941e",
   "metadata": {},
   "outputs": [
    {
     "data": {
      "text/plain": [
       "0         3.00\n",
       "1         3.00\n",
       "2         3.00\n",
       "3         3.00\n",
       "28        3.00\n",
       "         ...  \n",
       "41107     5.00\n",
       "41132     5.00\n",
       "41133     5.00\n",
       "41134     5.00\n",
       "41135     5.00\n",
       "Name: price, Length: 5880, dtype: object"
      ]
     },
     "execution_count": 8,
     "metadata": {},
     "output_type": "execute_result"
    }
   ],
   "source": [
    "new_df[\"price\"]"
   ]
  },
  {
   "cell_type": "code",
   "execution_count": 9,
   "id": "2a16001c",
   "metadata": {},
   "outputs": [
    {
     "data": {
      "text/html": [
       "<div>\n",
       "<style scoped>\n",
       "    .dataframe tbody tr th:only-of-type {\n",
       "        vertical-align: middle;\n",
       "    }\n",
       "\n",
       "    .dataframe tbody tr th {\n",
       "        vertical-align: top;\n",
       "    }\n",
       "\n",
       "    .dataframe thead th {\n",
       "        text-align: right;\n",
       "    }\n",
       "</style>\n",
       "<table border=\"1\" class=\"dataframe\">\n",
       "  <thead>\n",
       "    <tr style=\"text-align: right;\">\n",
       "      <th></th>\n",
       "      <th>product</th>\n",
       "      <th>price</th>\n",
       "      <th>quantity</th>\n",
       "      <th>date</th>\n",
       "      <th>region</th>\n",
       "    </tr>\n",
       "  </thead>\n",
       "  <tbody>\n",
       "    <tr>\n",
       "      <th>0</th>\n",
       "      <td>pink morsel</td>\n",
       "      <td>3.00</td>\n",
       "      <td>546</td>\n",
       "      <td>2018-02-06</td>\n",
       "      <td>north</td>\n",
       "    </tr>\n",
       "    <tr>\n",
       "      <th>1</th>\n",
       "      <td>pink morsel</td>\n",
       "      <td>3.00</td>\n",
       "      <td>549</td>\n",
       "      <td>2018-02-06</td>\n",
       "      <td>south</td>\n",
       "    </tr>\n",
       "    <tr>\n",
       "      <th>2</th>\n",
       "      <td>pink morsel</td>\n",
       "      <td>3.00</td>\n",
       "      <td>577</td>\n",
       "      <td>2018-02-06</td>\n",
       "      <td>east</td>\n",
       "    </tr>\n",
       "    <tr>\n",
       "      <th>3</th>\n",
       "      <td>pink morsel</td>\n",
       "      <td>3.00</td>\n",
       "      <td>519</td>\n",
       "      <td>2018-02-06</td>\n",
       "      <td>west</td>\n",
       "    </tr>\n",
       "    <tr>\n",
       "      <th>28</th>\n",
       "      <td>pink morsel</td>\n",
       "      <td>3.00</td>\n",
       "      <td>529</td>\n",
       "      <td>2018-02-07</td>\n",
       "      <td>north</td>\n",
       "    </tr>\n",
       "  </tbody>\n",
       "</table>\n",
       "</div>"
      ],
      "text/plain": [
       "        product  price  quantity        date region\n",
       "0   pink morsel   3.00       546  2018-02-06  north\n",
       "1   pink morsel   3.00       549  2018-02-06  south\n",
       "2   pink morsel   3.00       577  2018-02-06   east\n",
       "3   pink morsel   3.00       519  2018-02-06   west\n",
       "28  pink morsel   3.00       529  2018-02-07  north"
      ]
     },
     "execution_count": 9,
     "metadata": {},
     "output_type": "execute_result"
    }
   ],
   "source": [
    "new_df.head()"
   ]
  },
  {
   "cell_type": "code",
   "execution_count": 10,
   "id": "a0fb4ea6",
   "metadata": {},
   "outputs": [
    {
     "name": "stderr",
     "output_type": "stream",
     "text": [
      "C:\\Users\\Varad\\AppData\\Local\\Temp\\ipykernel_17744\\2681939530.py:1: SettingWithCopyWarning: \n",
      "A value is trying to be set on a copy of a slice from a DataFrame.\n",
      "Try using .loc[row_indexer,col_indexer] = value instead\n",
      "\n",
      "See the caveats in the documentation: https://pandas.pydata.org/pandas-docs/stable/user_guide/indexing.html#returning-a-view-versus-a-copy\n",
      "  new_df[\"price\"]=new_df[\"price\"].astype(float)\n"
     ]
    }
   ],
   "source": [
    "new_df[\"price\"]=new_df[\"price\"].astype(float)"
   ]
  },
  {
   "cell_type": "code",
   "execution_count": 11,
   "id": "384dd80d",
   "metadata": {},
   "outputs": [
    {
     "name": "stdout",
     "output_type": "stream",
     "text": [
      "<class 'pandas.core.frame.DataFrame'>\n",
      "Int64Index: 5880 entries, 0 to 41135\n",
      "Data columns (total 5 columns):\n",
      " #   Column    Non-Null Count  Dtype  \n",
      "---  ------    --------------  -----  \n",
      " 0   product   5880 non-null   object \n",
      " 1   price     5880 non-null   float64\n",
      " 2   quantity  5880 non-null   int64  \n",
      " 3   date      5880 non-null   object \n",
      " 4   region    5880 non-null   object \n",
      "dtypes: float64(1), int64(1), object(3)\n",
      "memory usage: 275.6+ KB\n"
     ]
    }
   ],
   "source": [
    "new_df.info()"
   ]
  },
  {
   "cell_type": "code",
   "execution_count": 12,
   "id": "8b41233b",
   "metadata": {},
   "outputs": [
    {
     "name": "stderr",
     "output_type": "stream",
     "text": [
      "C:\\Users\\Varad\\AppData\\Local\\Temp\\ipykernel_17744\\4051252047.py:1: SettingWithCopyWarning: \n",
      "A value is trying to be set on a copy of a slice from a DataFrame.\n",
      "Try using .loc[row_indexer,col_indexer] = value instead\n",
      "\n",
      "See the caveats in the documentation: https://pandas.pydata.org/pandas-docs/stable/user_guide/indexing.html#returning-a-view-versus-a-copy\n",
      "  new_df[\"sales\"]=new_df.quantity*new_df.price\n"
     ]
    }
   ],
   "source": [
    "new_df[\"sales\"]=new_df.quantity*new_df.price"
   ]
  },
  {
   "cell_type": "code",
   "execution_count": 13,
   "id": "ab5b094f",
   "metadata": {},
   "outputs": [
    {
     "data": {
      "text/plain": [
       "0        1638.0\n",
       "1        1647.0\n",
       "2        1731.0\n",
       "3        1557.0\n",
       "28       1587.0\n",
       "          ...  \n",
       "41107    2390.0\n",
       "41132    2035.0\n",
       "41133    2465.0\n",
       "41134    2500.0\n",
       "41135    2115.0\n",
       "Name: sales, Length: 5880, dtype: float64"
      ]
     },
     "execution_count": 13,
     "metadata": {},
     "output_type": "execute_result"
    }
   ],
   "source": [
    "new_df[\"sales\"]"
   ]
  },
  {
   "cell_type": "code",
   "execution_count": 14,
   "id": "476becd4",
   "metadata": {},
   "outputs": [
    {
     "name": "stdout",
     "output_type": "stream",
     "text": [
      "<class 'pandas.core.frame.DataFrame'>\n",
      "Int64Index: 5880 entries, 0 to 41135\n",
      "Data columns (total 6 columns):\n",
      " #   Column    Non-Null Count  Dtype  \n",
      "---  ------    --------------  -----  \n",
      " 0   product   5880 non-null   object \n",
      " 1   price     5880 non-null   float64\n",
      " 2   quantity  5880 non-null   int64  \n",
      " 3   date      5880 non-null   object \n",
      " 4   region    5880 non-null   object \n",
      " 5   sales     5880 non-null   float64\n",
      "dtypes: float64(2), int64(1), object(3)\n",
      "memory usage: 321.6+ KB\n"
     ]
    }
   ],
   "source": [
    "new_df.info()"
   ]
  },
  {
   "cell_type": "code",
   "execution_count": 16,
   "id": "7f3bb316",
   "metadata": {},
   "outputs": [],
   "source": [
    "new_df.to_csv(r\"E:\\AC_projects_programs\\quantium-starter-repo\\data\\updated_daily_sales_data.csv\")"
   ]
  },
  {
   "cell_type": "code",
   "execution_count": 17,
   "id": "0f11bf22",
   "metadata": {},
   "outputs": [],
   "source": [
    "new_df=new_df.drop(columns=['product', 'price', 'quantity'])"
   ]
  },
  {
   "cell_type": "code",
   "execution_count": 18,
   "id": "2dd844ea",
   "metadata": {},
   "outputs": [
    {
     "data": {
      "text/html": [
       "<div>\n",
       "<style scoped>\n",
       "    .dataframe tbody tr th:only-of-type {\n",
       "        vertical-align: middle;\n",
       "    }\n",
       "\n",
       "    .dataframe tbody tr th {\n",
       "        vertical-align: top;\n",
       "    }\n",
       "\n",
       "    .dataframe thead th {\n",
       "        text-align: right;\n",
       "    }\n",
       "</style>\n",
       "<table border=\"1\" class=\"dataframe\">\n",
       "  <thead>\n",
       "    <tr style=\"text-align: right;\">\n",
       "      <th></th>\n",
       "      <th>date</th>\n",
       "      <th>region</th>\n",
       "      <th>sales</th>\n",
       "    </tr>\n",
       "  </thead>\n",
       "  <tbody>\n",
       "    <tr>\n",
       "      <th>0</th>\n",
       "      <td>2018-02-06</td>\n",
       "      <td>north</td>\n",
       "      <td>1638.0</td>\n",
       "    </tr>\n",
       "    <tr>\n",
       "      <th>1</th>\n",
       "      <td>2018-02-06</td>\n",
       "      <td>south</td>\n",
       "      <td>1647.0</td>\n",
       "    </tr>\n",
       "    <tr>\n",
       "      <th>2</th>\n",
       "      <td>2018-02-06</td>\n",
       "      <td>east</td>\n",
       "      <td>1731.0</td>\n",
       "    </tr>\n",
       "    <tr>\n",
       "      <th>3</th>\n",
       "      <td>2018-02-06</td>\n",
       "      <td>west</td>\n",
       "      <td>1557.0</td>\n",
       "    </tr>\n",
       "    <tr>\n",
       "      <th>28</th>\n",
       "      <td>2018-02-07</td>\n",
       "      <td>north</td>\n",
       "      <td>1587.0</td>\n",
       "    </tr>\n",
       "    <tr>\n",
       "      <th>...</th>\n",
       "      <td>...</td>\n",
       "      <td>...</td>\n",
       "      <td>...</td>\n",
       "    </tr>\n",
       "    <tr>\n",
       "      <th>41107</th>\n",
       "      <td>2022-02-13</td>\n",
       "      <td>west</td>\n",
       "      <td>2390.0</td>\n",
       "    </tr>\n",
       "    <tr>\n",
       "      <th>41132</th>\n",
       "      <td>2022-02-14</td>\n",
       "      <td>north</td>\n",
       "      <td>2035.0</td>\n",
       "    </tr>\n",
       "    <tr>\n",
       "      <th>41133</th>\n",
       "      <td>2022-02-14</td>\n",
       "      <td>south</td>\n",
       "      <td>2465.0</td>\n",
       "    </tr>\n",
       "    <tr>\n",
       "      <th>41134</th>\n",
       "      <td>2022-02-14</td>\n",
       "      <td>east</td>\n",
       "      <td>2500.0</td>\n",
       "    </tr>\n",
       "    <tr>\n",
       "      <th>41135</th>\n",
       "      <td>2022-02-14</td>\n",
       "      <td>west</td>\n",
       "      <td>2115.0</td>\n",
       "    </tr>\n",
       "  </tbody>\n",
       "</table>\n",
       "<p>5880 rows × 3 columns</p>\n",
       "</div>"
      ],
      "text/plain": [
       "             date region   sales\n",
       "0      2018-02-06  north  1638.0\n",
       "1      2018-02-06  south  1647.0\n",
       "2      2018-02-06   east  1731.0\n",
       "3      2018-02-06   west  1557.0\n",
       "28     2018-02-07  north  1587.0\n",
       "...           ...    ...     ...\n",
       "41107  2022-02-13   west  2390.0\n",
       "41132  2022-02-14  north  2035.0\n",
       "41133  2022-02-14  south  2465.0\n",
       "41134  2022-02-14   east  2500.0\n",
       "41135  2022-02-14   west  2115.0\n",
       "\n",
       "[5880 rows x 3 columns]"
      ]
     },
     "execution_count": 18,
     "metadata": {},
     "output_type": "execute_result"
    }
   ],
   "source": [
    "new_df"
   ]
  },
  {
   "cell_type": "code",
   "execution_count": 19,
   "id": "e5a22655",
   "metadata": {},
   "outputs": [
    {
     "name": "stdout",
     "output_type": "stream",
     "text": [
      "<class 'pandas.core.frame.DataFrame'>\n",
      "Int64Index: 5880 entries, 0 to 41135\n",
      "Data columns (total 3 columns):\n",
      " #   Column  Non-Null Count  Dtype  \n",
      "---  ------  --------------  -----  \n",
      " 0   date    5880 non-null   object \n",
      " 1   region  5880 non-null   object \n",
      " 2   sales   5880 non-null   float64\n",
      "dtypes: float64(1), object(2)\n",
      "memory usage: 183.8+ KB\n"
     ]
    }
   ],
   "source": [
    "new_df.info()"
   ]
  },
  {
   "cell_type": "code",
   "execution_count": 20,
   "id": "e694918c",
   "metadata": {},
   "outputs": [],
   "source": [
    "new_df=new_df[['sales', 'date', 'region']]"
   ]
  },
  {
   "cell_type": "code",
   "execution_count": 21,
   "id": "f01ac291",
   "metadata": {},
   "outputs": [
    {
     "data": {
      "text/html": [
       "<div>\n",
       "<style scoped>\n",
       "    .dataframe tbody tr th:only-of-type {\n",
       "        vertical-align: middle;\n",
       "    }\n",
       "\n",
       "    .dataframe tbody tr th {\n",
       "        vertical-align: top;\n",
       "    }\n",
       "\n",
       "    .dataframe thead th {\n",
       "        text-align: right;\n",
       "    }\n",
       "</style>\n",
       "<table border=\"1\" class=\"dataframe\">\n",
       "  <thead>\n",
       "    <tr style=\"text-align: right;\">\n",
       "      <th></th>\n",
       "      <th>sales</th>\n",
       "      <th>date</th>\n",
       "      <th>region</th>\n",
       "    </tr>\n",
       "  </thead>\n",
       "  <tbody>\n",
       "    <tr>\n",
       "      <th>0</th>\n",
       "      <td>1638.0</td>\n",
       "      <td>2018-02-06</td>\n",
       "      <td>north</td>\n",
       "    </tr>\n",
       "    <tr>\n",
       "      <th>1</th>\n",
       "      <td>1647.0</td>\n",
       "      <td>2018-02-06</td>\n",
       "      <td>south</td>\n",
       "    </tr>\n",
       "    <tr>\n",
       "      <th>2</th>\n",
       "      <td>1731.0</td>\n",
       "      <td>2018-02-06</td>\n",
       "      <td>east</td>\n",
       "    </tr>\n",
       "    <tr>\n",
       "      <th>3</th>\n",
       "      <td>1557.0</td>\n",
       "      <td>2018-02-06</td>\n",
       "      <td>west</td>\n",
       "    </tr>\n",
       "    <tr>\n",
       "      <th>28</th>\n",
       "      <td>1587.0</td>\n",
       "      <td>2018-02-07</td>\n",
       "      <td>north</td>\n",
       "    </tr>\n",
       "    <tr>\n",
       "      <th>...</th>\n",
       "      <td>...</td>\n",
       "      <td>...</td>\n",
       "      <td>...</td>\n",
       "    </tr>\n",
       "    <tr>\n",
       "      <th>41107</th>\n",
       "      <td>2390.0</td>\n",
       "      <td>2022-02-13</td>\n",
       "      <td>west</td>\n",
       "    </tr>\n",
       "    <tr>\n",
       "      <th>41132</th>\n",
       "      <td>2035.0</td>\n",
       "      <td>2022-02-14</td>\n",
       "      <td>north</td>\n",
       "    </tr>\n",
       "    <tr>\n",
       "      <th>41133</th>\n",
       "      <td>2465.0</td>\n",
       "      <td>2022-02-14</td>\n",
       "      <td>south</td>\n",
       "    </tr>\n",
       "    <tr>\n",
       "      <th>41134</th>\n",
       "      <td>2500.0</td>\n",
       "      <td>2022-02-14</td>\n",
       "      <td>east</td>\n",
       "    </tr>\n",
       "    <tr>\n",
       "      <th>41135</th>\n",
       "      <td>2115.0</td>\n",
       "      <td>2022-02-14</td>\n",
       "      <td>west</td>\n",
       "    </tr>\n",
       "  </tbody>\n",
       "</table>\n",
       "<p>5880 rows × 3 columns</p>\n",
       "</div>"
      ],
      "text/plain": [
       "        sales        date region\n",
       "0      1638.0  2018-02-06  north\n",
       "1      1647.0  2018-02-06  south\n",
       "2      1731.0  2018-02-06   east\n",
       "3      1557.0  2018-02-06   west\n",
       "28     1587.0  2018-02-07  north\n",
       "...       ...         ...    ...\n",
       "41107  2390.0  2022-02-13   west\n",
       "41132  2035.0  2022-02-14  north\n",
       "41133  2465.0  2022-02-14  south\n",
       "41134  2500.0  2022-02-14   east\n",
       "41135  2115.0  2022-02-14   west\n",
       "\n",
       "[5880 rows x 3 columns]"
      ]
     },
     "execution_count": 21,
     "metadata": {},
     "output_type": "execute_result"
    }
   ],
   "source": [
    "new_df"
   ]
  },
  {
   "cell_type": "code",
   "execution_count": 24,
   "id": "c8f8ba50",
   "metadata": {},
   "outputs": [],
   "source": [
    "new_df.to_csv(r\"E:\\AC_projects_programs\\quantium-starter-repo\\data\\updated_daily_sales_data.csv\")"
   ]
  },
  {
   "cell_type": "code",
   "execution_count": 25,
   "id": "9362cb9e",
   "metadata": {},
   "outputs": [
    {
     "name": "stdout",
     "output_type": "stream",
     "text": [
      "<class 'pandas.core.frame.DataFrame'>\n",
      "Int64Index: 5880 entries, 0 to 41135\n",
      "Data columns (total 3 columns):\n",
      " #   Column  Non-Null Count  Dtype  \n",
      "---  ------  --------------  -----  \n",
      " 0   sales   5880 non-null   float64\n",
      " 1   date    5880 non-null   object \n",
      " 2   region  5880 non-null   object \n",
      "dtypes: float64(1), object(2)\n",
      "memory usage: 183.8+ KB\n"
     ]
    }
   ],
   "source": [
    "new_df.info()"
   ]
  },
  {
   "cell_type": "code",
   "execution_count": null,
   "id": "eb435220",
   "metadata": {},
   "outputs": [],
   "source": []
  }
 ],
 "metadata": {
  "kernelspec": {
   "display_name": "Python 3 (ipykernel)",
   "language": "python",
   "name": "python3"
  },
  "language_info": {
   "codemirror_mode": {
    "name": "ipython",
    "version": 3
   },
   "file_extension": ".py",
   "mimetype": "text/x-python",
   "name": "python",
   "nbconvert_exporter": "python",
   "pygments_lexer": "ipython3",
   "version": "3.9.12"
  }
 },
 "nbformat": 4,
 "nbformat_minor": 5
}
