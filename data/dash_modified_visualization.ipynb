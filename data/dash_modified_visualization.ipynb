{
 "cells": [
  {
   "cell_type": "code",
   "execution_count": 1,
   "id": "3ed82b91",
   "metadata": {},
   "outputs": [],
   "source": [
    "from dash import Dash, html, dcc, Input, Output, callback\n",
    "import plotly.express as px\n",
    "import pandas as pd"
   ]
  },
  {
   "cell_type": "code",
   "execution_count": 2,
   "id": "35ba747d",
   "metadata": {},
   "outputs": [],
   "source": [
    "app = Dash(__name__)"
   ]
  },
  {
   "cell_type": "code",
   "execution_count": 3,
   "id": "d774c557",
   "metadata": {},
   "outputs": [],
   "source": [
    "df=pd.read_csv(r\"E:\\AC_projects_programs\\quantium-starter-repo\\data\\updated_daily_sales_data.csv\")"
   ]
  },
  {
   "cell_type": "code",
   "execution_count": 4,
   "id": "bd1ff396",
   "metadata": {},
   "outputs": [],
   "source": [
    "df=df.sort_values(by=\"date\")"
   ]
  },
  {
   "cell_type": "code",
   "execution_count": 5,
   "id": "7b8bf515",
   "metadata": {},
   "outputs": [],
   "source": [
    "app.layout = html.Div(children=[html.H1(children=\"Soul Food's Sales\", id=\"header\"), \n",
    "                                dcc.Graph(id='sales-graph'), \n",
    "                                dcc.RadioItems(\n",
    "    [\"east\", \"west\", \"north\", \"south\", \"all\"], \"all\", id=\"region-picker\", inline=True)])\n",
    "\n",
    "@callback(Output('sales-graph', 'figure'), Input('region-picker', 'value'))\n",
    "\n",
    "def update_figure(region):\n",
    "    if region==\"all\":\n",
    "        trimmed_df=df\n",
    "    else:\n",
    "        trimmed_df=df[df[\"region\"] == region]\n",
    "\n",
    "    # generate a new line chart with the filtered data\n",
    "    figure=px.line(trimmed_df, x=\"date\", y=\"sales\", color=\"region\")\n",
    "    figure.update_layout(transition_duration=500)\n",
    "    return figure"
   ]
  },
  {
   "cell_type": "code",
   "execution_count": 6,
   "id": "c82f8ba8",
   "metadata": {},
   "outputs": [
    {
     "data": {
      "text/html": [
       "\n",
       "        <iframe\n",
       "            width=\"100%\"\n",
       "            height=\"650\"\n",
       "            src=\"http://127.0.0.1:8050/\"\n",
       "            frameborder=\"0\"\n",
       "            allowfullscreen\n",
       "            \n",
       "        ></iframe>\n",
       "        "
      ],
      "text/plain": [
       "<IPython.lib.display.IFrame at 0x12bdd073790>"
      ]
     },
     "metadata": {},
     "output_type": "display_data"
    }
   ],
   "source": [
    "if __name__ == '__main__':\n",
    "    app.run(debug=True)"
   ]
  },
  {
   "cell_type": "code",
   "execution_count": null,
   "id": "d7ab9abd",
   "metadata": {},
   "outputs": [],
   "source": []
  }
 ],
 "metadata": {
  "kernelspec": {
   "display_name": "Python 3 (ipykernel)",
   "language": "python",
   "name": "python3"
  },
  "language_info": {
   "codemirror_mode": {
    "name": "ipython",
    "version": 3
   },
   "file_extension": ".py",
   "mimetype": "text/x-python",
   "name": "python",
   "nbconvert_exporter": "python",
   "pygments_lexer": "ipython3",
   "version": "3.9.12"
  }
 },
 "nbformat": 4,
 "nbformat_minor": 5
}
